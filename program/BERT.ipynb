{
 "cells": [
  {
   "attachments": {},
   "cell_type": "markdown",
   "metadata": {},
   "source": [
    "<h2>東北大BERTの検証</h2>"
   ]
  },
  {
   "attachments": {},
   "cell_type": "markdown",
   "metadata": {},
   "source": [
    "<h3>説明</h3>\n",
    "東北大BERTが研究に適しているか，自由記述文のスコア付けタスクを行うことにより検証する．"
   ]
  },
  {
   "attachments": {},
   "cell_type": "markdown",
   "metadata": {},
   "source": [
    "<h3>コード記述</h3>"
   ]
  },
  {
   "cell_type": "code",
   "execution_count": 1,
   "metadata": {},
   "outputs": [],
   "source": [
    "!pip -q install transformers fugashi ipadic japanize-matplotlib"
   ]
  },
  {
   "cell_type": "code",
   "execution_count": 2,
   "metadata": {},
   "outputs": [
    {
     "name": "stderr",
     "output_type": "stream",
     "text": [
      "/Users/masa1357/miniforge3/lib/python3.10/site-packages/tqdm/auto.py:21: TqdmWarning: IProgress not found. Please update jupyter and ipywidgets. See https://ipywidgets.readthedocs.io/en/stable/user_install.html\n",
      "  from .autonotebook import tqdm as notebook_tqdm\n"
     ]
    },
    {
     "ename": "ModuleNotFoundError",
     "evalue": "No module named 'sklearn'",
     "output_type": "error",
     "traceback": [
      "\u001b[0;31m---------------------------------------------------------------------------\u001b[0m",
      "\u001b[0;31mModuleNotFoundError\u001b[0m                       Traceback (most recent call last)",
      "Cell \u001b[0;32mIn[2], line 5\u001b[0m\n\u001b[1;32m      3\u001b[0m \u001b[39mimport\u001b[39;00m \u001b[39mmatplotlib\u001b[39;00m\u001b[39m.\u001b[39;00m\u001b[39mpyplot\u001b[39;00m \u001b[39mas\u001b[39;00m \u001b[39mplt\u001b[39;00m\n\u001b[1;32m      4\u001b[0m \u001b[39mimport\u001b[39;00m \u001b[39mjapanize_matplotlib\u001b[39;00m\n\u001b[0;32m----> 5\u001b[0m \u001b[39mfrom\u001b[39;00m \u001b[39msklearn\u001b[39;00m\u001b[39m.\u001b[39;00m\u001b[39mmanifold\u001b[39;00m \u001b[39mimport\u001b[39;00m TSNE\n\u001b[1;32m      6\u001b[0m \u001b[39mfrom\u001b[39;00m \u001b[39mtqdm\u001b[39;00m \u001b[39mimport\u001b[39;00m tqdm\n\u001b[1;32m      7\u001b[0m \u001b[39mfrom\u001b[39;00m \u001b[39msklearn\u001b[39;00m\u001b[39m.\u001b[39;00m\u001b[39mmetrics\u001b[39;00m\u001b[39m.\u001b[39;00m\u001b[39mpairwise\u001b[39;00m \u001b[39mimport\u001b[39;00m cosine_similarity\n",
      "\u001b[0;31mModuleNotFoundError\u001b[0m: No module named 'sklearn'"
     ]
    }
   ],
   "source": [
    "from transformers import AutoModel, AutoTokenizer\n",
    "import numpy as np\n",
    "import matplotlib.pyplot as plt\n",
    "import japanize_matplotlib\n",
    "from sklearn.manifold import TSNE\n",
    "from tqdm import tqdm\n",
    "from sklearn.metrics.pairwise import cosine_similarity"
   ]
  },
  {
   "cell_type": "code",
   "execution_count": null,
   "metadata": {},
   "outputs": [],
   "source": [
    "# 事前学習済みモデルの読み込み\n",
    "tokenizer = AutoTokenizer.from_pretrained(\"cl-tohoku/bert-base-japanese\")\n",
    "model = AutoModel.from_pretrained(\"cl-tohoku/bert-base-japanese\")"
   ]
  },
  {
   "cell_type": "code",
   "execution_count": null,
   "metadata": {},
   "outputs": [],
   "source": [
    "# 変換する文章をリストで定義\n",
    "texts = [\n",
    "    \"丸善の商品は定価よりも高かったりしますか？\",\n",
    "    \"授業の退出時にカードリーダーに学生証をタッチし忘れた場合、欠席扱いになりますか？また、授業の担当の先生に連絡した方がいいですか？\",\n",
    "    \"中部大学の奨学金って重複して取れるんですか？勉強の三十万円と部活とかの十万円\",\n",
    "    \"中部大学にはパソコンのマウスやUSBとかを買える所ありますか？\",\n",
    "    \"イケメンがいなくて困ってます．ぴえん．\",\n",
    "    \"夜遅くまで勉強したいのですが基本的に何時まで大学に居ても大丈夫でしょうか\",\n",
    "    \"相談会などにいってないのですがどうやったらサークルに入れますか\",\n",
    "    \"コモンズの使用時間は９時からですが、9時前に入って勉強している人もいます。良いのでしょうか？9時前でもコモンズ3階のコピー機を使ったりし良いんですか\",\n",
    "    \"お昼めっちゃ混んでてビビってます。なにたべましたか？\",\n",
    "    \"担当してる教授がどんな研究をしているか知りたいんですがどうやって調べられますか？\",\n",
    "    \"彼女と別れて友達もなんか違うなあって思えてきてまわりの話を聞いたり見たりして自分の人生なにも他の人よりこれ！っていうものなかったことに気づいて途方に暮れてますす。どうしたらネガティブな感情なくなりますか？\",\n",
    "    \"ロッカーを使用している方のほとんどがダイアル式なんですがいいんでしょうか？\",\n",
    "    \"履修追加したときの連絡って、直接会って追加したのでよろしくお願いしますって言いに行くのは迷惑ですか？\",\n",
    "    \"スマホの充電ができる場所ってあったりしますか？\",\n",
    "    \"必修じゃない専門科目って取らないとやばいですかね？\",\n",
    "    \"昨日一限で朝行ったときバス混んでたんですが　あれ毎日なんですかね\",\n",
    "    \"中部大学にお風呂とかってあるんですか？\",\n",
    "    \"中部大学で留学生向けの日本語教育プログラムはありますか？\",\n",
    "    \"キャンパス内で買い物ができる場所はありますか？また、近隣にスーパーなどのお店はありますか？\",\n",
    "    \"中部大学の図書館は24時間開館していますか？\",\n",
    "    \"中部大学で学生によるボランティア活動は盛んですか？\",\n",
    "    \"中部大学には学生寮がありますか？また、近隣に住む場合、家賃はどのくらいですか？\",\n",
    "    \"中部大学には留学生交流のためのクラブやイベントはありますか？\",\n",
    "    \"中部大学の卒業生はどのような就職先に進んでいますか？\",\n",
    "    \"大学のサークル活動にはどのような種類がありますか？\",\n",
    "    \"中部大学で行われている研究分野について、特に注目すべきものはありますか？\",\n",
    "    \"中部大学のキャンパス内には、どのようなスポーツ施設がありますか？\",\n",
    "    \"中部大学のキャンパス周辺には、どのような飲食店やショッピング施設がありますか？\",\n",
    "    \"大学の授業では、どのような教育方法が用いられていますか？\",\n",
    "    \"中部大学には、留学生が日本語を学ぶための講座やプログラムがありますか？\",\n",
    "    \"大学生活でのアルバイト探しのコツはありますか？\",\n",
    "    \"大学の学食には、どのような種類の料理があるのでしょうか？\",\n",
    "    \"大学には、どのような図書館がありますか？また、貸し出しの制度や利用時間について教えてください。\",\n",
    "    \"中部大学のキャンパス内には、どのような芸術・文化施設がありますか？\",\n",
    "    \"中部大学では、どのようなスポーツやクラブ活動が盛んですか？\",\n",
    "    \"大学生活での運動不足対策におすすめのスポーツやエクササイズはありますか？\",\n",
    "    \"大学の授業で使われるテキストや参考書は、どこで購入するのがおすすめですか？\",\n",
    "    \"中部大学には、どのような国際交流のイベントやプログラムがあるのでしょうか？\",\n",
    "    \"大学生活での交友関係の作り方や維持のコツはありますか？\",\n",
    "    \"大学生活での健康管理におすすめの方法や注意点はありますか？\",\n",
    "    \"中部大学には、どのような研究室がありますか？また、研究室見学の方法について教えてください。\",\n",
    "    \"大学生活でのストレス解消法やリラックス法はありますか？\",\n",
    "]\n",
    "\n",
    "# 特徴ベクトルを取得\n",
    "features_list = []\n",
    "for text in tqdm(texts):\n",
    "    inputs = tokenizer(text, return_tensors=\"pt\")\n",
    "    outputs = model(**inputs)\n",
    "    features = outputs.last_hidden_state.mean(dim=1).squeeze().detach().numpy()\n",
    "    # ノルムを1に正規化\n",
    "    features_norm = np.linalg.norm(features)\n",
    "    if features_norm > 0:\n",
    "        features = features / features_norm\n",
    "    features_list.append(features)\n",
    "\n",
    "# 特徴ベクトルをnumpy配列に変換\n",
    "features_array = np.array(features_list)\n",
    "\n",
    "# 重心を計算\n",
    "center = features_array.mean(axis=0)\n",
    "\n",
    "# 特徴量と中心点のコサイン類似度を計算\n",
    "similarities = cosine_similarity(features_array, center.reshape(1, -1)).flatten()\n",
    "\n",
    "# 類似度が高い順にデータをソート\n",
    "sorted_indices = similarities.argsort()[::-1]\n",
    "\n",
    "for i, text in enumerate(np.array(texts)[sorted_indices]):\n",
    "    print(f'No.{i}: {text}')"
   ]
  },
  {
   "cell_type": "code",
   "execution_count": null,
   "metadata": {},
   "outputs": [],
   "source": [
    "# T-SNEによる次元圧縮 \n",
    "features_list.append(center)\n",
    "tsne = TSNE(n_components=2) # n_componentsは低次元データの次元数\n",
    "features_tsne = tsne.fit_transform(np.array(features_list))"
   ]
  },
  {
   "cell_type": "code",
   "execution_count": null,
   "metadata": {},
   "outputs": [],
   "source": [
    "for i in range(len(features_list)-1):\n",
    "    plt.scatter(\n",
    "        features_tsne[i, 0],\n",
    "        features_tsne[i, 1],\n",
    "        color=\"blue\" if i != sorted_indices[-1] else \"red\")\n",
    "plt.scatter(\n",
    "        features_tsne[len(features_list)-1, 0],\n",
    "        features_tsne[len(features_list)-1, 1],\n",
    "        color=\"green\")\n",
    "plt.text(\n",
    "    features_tsne[sorted_indices[-1], 0] - 0.1,\n",
    "    features_tsne[sorted_indices[-1], 1] + 0.05,\n",
    "    texts[sorted_indices[-1]],\n",
    "    color=\"black\")\n",
    "plt.show()"
   ]
  }
 ],
 "metadata": {
  "kernelspec": {
   "display_name": "Python 3",
   "language": "python",
   "name": "python3"
  },
  "language_info": {
   "codemirror_mode": {
    "name": "ipython",
    "version": 3
   },
   "file_extension": ".py",
   "mimetype": "text/x-python",
   "name": "python",
   "nbconvert_exporter": "python",
   "pygments_lexer": "ipython3",
   "version": "3.10.10"
  },
  "orig_nbformat": 4
 },
 "nbformat": 4,
 "nbformat_minor": 2
}
