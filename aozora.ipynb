{
 "cells": [
  {
   "cell_type": "code",
   "execution_count": 49,
   "metadata": {},
   "outputs": [
    {
     "name": "stdout",
     "output_type": "stream",
     "text": [
      "比較的強い体質をもった私は、もっと海の中で遊んでいたかった。\n"
     ]
    }
   ],
   "source": [
    "book_id = '773'\n",
    "import requests\n",
    "res = requests.get(\"https://www.aozora.gr.jp/cards/000148/files/773_14560.html\")\n",
    "\n",
    "from bs4 import BeautifulSoup\n",
    "html_content = res.content.decode(\"shift-jis\")\n",
    "soup = BeautifulSoup(html_content, 'html.parser')\n",
    "\n",
    "soup.find('div', {'class': 'main_text'}).get_text()\n",
    "text_list = soup.find('div', {'class': 'main_text'}).get_text().strip('\\r''\\n''\\u3000').split('。')\n",
    "for tag in soup.find_all([\"rt\", \"rp\"]):\n",
    "        tag.decompose() # タグとその内容の削除\n",
    "print(text[100]+\"。\")"
   ]
  },
  {
   "cell_type": "code",
   "execution_count": 55,
   "metadata": {},
   "outputs": [
    {
     "name": "stdout",
     "output_type": "stream",
     "text": [
      "ランダムな行のリスト:\n",
      "['人間のどうする事もできない持って生れた軽薄を、果敢ないものに観じた。', '老少不定っていうくらいだから」奥さんはことさらに私の方を見て笑談らしくこういった。', 'なぜその方が死んだのか、私には解らないの。', '二度目に行ったのは次の日曜だと覚えている。', 'そうして先生といっしょの方角に泳いで行った。']\n"
     ]
    }
   ],
   "source": [
    "import requests\n",
    "from bs4 import BeautifulSoup\n",
    "import random\n",
    "\n",
    "book_id = '773'\n",
    "res = requests.get(\"https://www.aozora.gr.jp/cards/000148/files/773_14560.html\")\n",
    "\n",
    "html_content = res.content.decode(\"shift-jis\")\n",
    "soup = BeautifulSoup(html_content, 'html.parser')\n",
    "\n",
    "# タグとその内容の削除\n",
    "for tag in soup.find_all([\"rt\", \"rp\"]):\n",
    "    tag.decompose()\n",
    "\n",
    "main_text = soup.find('div', {'class': 'main_text'}).get_text()\n",
    "clean_text = main_text.replace('\\r', '').replace('\\n', '').replace('\\u3000', '')\n",
    "text_list = clean_text.split('。')\n",
    "\n",
    "# N個のランダムな行を取得します\n",
    "N = 5\n",
    "texts = random.sample(text_list, N)\n",
    "texts = [text + \"。\" for text in texts]\n",
    "\n",
    "# 結果を表示します\n",
    "print(\"ランダムな行のリスト:\")\n",
    "print(texts)\n"
   ]
  }
 ],
 "metadata": {
  "kernelspec": {
   "display_name": "base",
   "language": "python",
   "name": "python3"
  },
  "language_info": {
   "name": "python",
   "version": "3.10.10"
  },
  "orig_nbformat": 4
 },
 "nbformat": 4,
 "nbformat_minor": 2
}
